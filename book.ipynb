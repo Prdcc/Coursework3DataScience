{
 "nbformat": 4,
 "nbformat_minor": 2,
 "metadata": {
  "language_info": {
   "name": "python",
   "codemirror_mode": {
    "name": "ipython",
    "version": 3
   },
   "version": "3.6.8"
  },
  "orig_nbformat": 2,
  "file_extension": ".py",
  "mimetype": "text/x-python",
  "name": "python",
  "npconvert_exporter": "python",
  "pygments_lexer": "ipython3",
  "version": 3
 },
 "cells": [
  {
   "cell_type": "code",
   "execution_count": 4,
   "metadata": {},
   "outputs": [],
   "source": [
    "import numpy as np\n",
    "import seaborn as sns\n",
    "import sklearn\n",
    "import matplotlib.pyplot as plt\n",
    "import pandas as pd\n",
    "import networkx as nx\n",
    "dataDir = \"./data/\"\n"
   ]
  },
  {
   "cell_type": "code",
   "execution_count": 6,
   "metadata": {},
   "outputs": [],
   "source": [
    "from sklearn.datasets import fetch_openml\n",
    "try:\n",
    "    trainX = np.load(dataDir + \"trainImg.npy\")\n",
    "    trainY = np.load(dataDir + \"trainLbl.npy\")\n",
    "    testX = np.load(dataDir + \"testImg.npy\")\n",
    "    testY = np.load(dataDir + \"testImg.npy\")\n",
    "except: #files don't exist and need downloading\n",
    "    mnist = fetch_openml('Fashion-MNIST', cache=False)\n",
    "    X = mnist.data.astype('float32')\n",
    "    y = mnist.target.astype('int64')\n",
    "    trainX, testX, trainY, testY = train_test_split(X, y, test_size=10000)"
   ]
  }
 ]
}